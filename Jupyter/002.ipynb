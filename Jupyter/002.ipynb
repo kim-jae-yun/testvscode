{
 "cells": [
  {
   "cell_type": "code",
   "execution_count": 5,
   "metadata": {},
   "outputs": [
    {
     "name": "stdout",
     "output_type": "stream",
     "text": [
      "[100, 200, 300, 400]\n",
      "<class 'list'>\n",
      "200\n",
      "[100, 1000, 300, 400]\n"
     ]
    }
   ],
   "source": [
    "#리스트, 튜플, 딕셔너리, 셋\n",
    "l =[100, 200, 300, 400]\n",
    "print(l)\n",
    "print(type(l))\n",
    "# print(dir(l))\n",
    "# 변경이 가능한 자료형\n",
    "# 순서가 있는 자료형\n",
    "print(l[1])\n",
    "l[1] = 1000\n",
    "print(l)"
   ]
  },
  {
   "cell_type": "code",
   "execution_count": 23,
   "metadata": {},
   "outputs": [
    {
     "name": "stdout",
     "output_type": "stream",
     "text": [
      "['__add__', '__class__', '__contains__', '__delattr__', '__delitem__', '__dir__', '__doc__', '__eq__', '__format__', '__ge__', '__getattribute__', '__getitem__', '__gt__', '__hash__', '__iadd__', '__imul__', '__init__', '__init_subclass__', '__iter__', '__le__', '__len__', '__lt__', '__mul__', '__ne__', '__new__', '__reduce__', '__reduce_ex__', '__repr__', '__reversed__', '__rmul__', '__setattr__', '__setitem__', '__sizeof__', '__str__', '__subclasshook__', 'append', 'clear', 'copy', 'count', 'extend', 'index', 'insert', 'pop', 'remove', 'reverse', 'sort']\n",
      "[100, 200, 300, 400, 300]\n",
      "2\n",
      "[100, 200, 300, 400, 300, 100, 200, 300]\n",
      "3\n",
      "0\n",
      "[100, 200, 300, 1000, 400, 300, 100, 200, 300]\n",
      "[100, 200, 300, 1000, 400, 300, 100, 200]\n",
      "[100, 200, 300, 1000, 400, 300, 100, 200]\n",
      "[200, 300, 1000, 400, 300, 100, 200]\n",
      "[200, 100, 300, 400, 1000, 300, 200]\n",
      "[100, 200, 200, 300, 300, 400, 1000]\n"
     ]
    }
   ],
   "source": [
    "l =[100, 200, 300, 400]\n",
    "print(l[::-1])\n",
    "# l[strt:stop:step]\n",
    "print(dir(l))\n",
    "l.append(300)\n",
    "print(l)\n",
    "# l.clear()\n",
    "# i.copy()\n",
    "print(l.count(300))\n",
    "l.extend([100, 200, 300])\n",
    "print(l)\n",
    "print(l.index(400))\n",
    "print(l.index(100))  # 값이 두개면 맨앞에 찾은 것만 반환을 해준다.\n",
    "l.insert(3, 1000)  # 삽입\n",
    "print(l)\n",
    "l.pop()   # 마지막에 있는 값을 꺼낸다.\n",
    "print(l)\n",
    "# l.pop(3)  # 위치를 지정해서 뺄 수도 있다.\n",
    "print(l)\n",
    "l.remove(100) # 처음 만나는 값이 사라진다.\n",
    "print(l)\n",
    "l.reverse()  # 거꾸로 뒤집는다.\n",
    "print(l)\n",
    "l.sort()    #정렬\n",
    "print(l)\n",
    "# sorted()     # 리턴값만 관여\n",
    "# reversed()   # 리턴값만 관여"
   ]
  },
  {
   "cell_type": "code",
   "execution_count": 28,
   "metadata": {},
   "outputs": [
    {
     "name": "stdout",
     "output_type": "stream",
     "text": [
      "([10, 20], 200, 300)\n",
      "<class 'tuple'>\n",
      "['__add__', '__class__', '__contains__', '__delattr__', '__dir__', '__doc__', '__eq__', '__format__', '__ge__', '__getattribute__', '__getitem__', '__getnewargs__', '__gt__', '__hash__', '__init__', '__init_subclass__', '__iter__', '__le__', '__len__', '__lt__', '__mul__', '__ne__', '__new__', '__reduce__', '__reduce_ex__', '__repr__', '__rmul__', '__setattr__', '__sizeof__', '__str__', '__subclasshook__', 'count', 'index']\n",
      "([10000, 20], 200, 300)\n"
     ]
    }
   ],
   "source": [
    "# 튜플\n",
    "l = [10, 20]\n",
    "t = (l, 200, 300) # l : 변경이 불가능한 자료형에 변경이 가능한 자료행이 들어 옴\n",
    "                  # t는 0번째의 l을 참조하고 하고 있다는 사실이 불변이지 l의 값은 어떻게 할 수 없다\n",
    "                  # (변경이 불가능하지만 참조 불변이지 값의 불변은 아니다. 값을 변화시킬 수 있는 자료형이 들어왔기 때문)\n",
    "print(t)\n",
    "print(type(t))\n",
    "print(dir(t))\n",
    "\n",
    "# 순서가 있고\n",
    "# 변경이 불가능한 자료형\n",
    "\n",
    "# t[0] = 1000 error\n",
    "l[0] = 10000\n",
    "print(t)\n"
   ]
  },
  {
   "cell_type": "code",
   "execution_count": 33,
   "metadata": {},
   "outputs": [
    {
     "name": "stdout",
     "output_type": "stream",
     "text": [
      "{200, 100, 300}\n",
      "<class 'set'>\n",
      "['__and__', '__class__', '__contains__', '__delattr__', '__dir__', '__doc__', '__eq__', '__format__', '__ge__', '__getattribute__', '__gt__', '__hash__', '__iand__', '__init__', '__init_subclass__', '__ior__', '__isub__', '__iter__', '__ixor__', '__le__', '__len__', '__lt__', '__ne__', '__new__', '__or__', '__rand__', '__reduce__', '__reduce_ex__', '__repr__', '__ror__', '__rsub__', '__rxor__', '__setattr__', '__sizeof__', '__str__', '__sub__', '__subclasshook__', '__xor__', 'add', 'clear', 'copy', 'difference', 'difference_update', 'discard', 'intersection', 'intersection_update', 'isdisjoint', 'issubset', 'issuperset', 'pop', 'remove', 'symmetric_difference', 'symmetric_difference_update', 'union', 'update']\n",
      "{200, 100, 500, 300}\n",
      "{'b', 'g', 'e', 'c', 'a', 'f', 'd'}\n",
      "{1, 2, 3, 100, 500, 200, 300}\n"
     ]
    }
   ],
   "source": [
    "# 셋\n",
    "s = {100, 200, 300, 300, 300}\n",
    "ss = {1, 2, 3}\n",
    "print(s)\n",
    "print(type(s))\n",
    "print(dir(s))\n",
    "\n",
    "# 순서가 없고\n",
    "# 값의 중복을 허락하지 않습니다.\n",
    "\n",
    "s.add(500)\n",
    "print(s)\n",
    "print(set('aabbcccdddefggg')) # set은 중복을 제거하는 용도로 많이 사용한다.\n",
    "print(s.union(ss))"
   ]
  },
  {
   "cell_type": "code",
   "execution_count": 39,
   "metadata": {},
   "outputs": [
    {
     "name": "stdout",
     "output_type": "stream",
     "text": [
      "10\n",
      "<class 'dict'>\n",
      "['__class__', '__contains__', '__delattr__', '__delitem__', '__dir__', '__doc__', '__eq__', '__format__', '__ge__', '__getattribute__', '__getitem__', '__gt__', '__hash__', '__init__', '__init_subclass__', '__iter__', '__le__', '__len__', '__lt__', '__ne__', '__new__', '__reduce__', '__reduce_ex__', '__repr__', '__setattr__', '__setitem__', '__sizeof__', '__str__', '__subclasshook__', 'clear', 'copy', 'fromkeys', 'get', 'items', 'keys', 'pop', 'popitem', 'setdefault', 'update', 'values']\n",
      "dict_values([10, 20])\n",
      "dict_keys(['one', 'two'])\n",
      "dict_items([('one', 10), ('two', 20)])\n",
      "('one', 10)\n",
      "10\n"
     ]
    }
   ],
   "source": [
    "# 딕셔너리\n",
    "# d = {key:value}\n",
    "d = {'one': 10, 'two':20}\n",
    "\n",
    "# 순서가 없고\n",
    "# 키의 중복을 허락하지 않는다.\n",
    "\n",
    "print(d['one'])\n",
    "print(type(d))\n",
    "print(dir(d))\n",
    "print(d.values())\n",
    "print(d.keys())\n",
    "print(d.items())\n",
    "l = list(d.items())\n",
    "print(l[0])\n",
    "print(l[0][1])"
   ]
  },
  {
   "cell_type": "code",
   "execution_count": 45,
   "metadata": {},
   "outputs": [
    {
     "name": "stdout",
     "output_type": "stream",
     "text": [
      "{'banana': 5000, 'orange': 10000}\n",
      "{'banana': 5000, 'orange': 10000}\n",
      "{'banana': 5000, 'orange': 2000}\n",
      "{'banana': 5000, 'orange': 10000}\n"
     ]
    }
   ],
   "source": [
    "jeju = {'banana':5000, 'orange':2000}\n",
    "seoul = jeju\n",
    "jeju['orange'] = 10000\n",
    "print(seoul)\n",
    "print(jeju)\n",
    "\n",
    "jeju = {'banana':5000, 'orange':2000}\n",
    "seoul = jeju.copy()                      # copy의 용도\n",
    "jeju['orange'] = 10000\n",
    "print(seoul)\n",
    "print(jeju)"
   ]
  }
 ],
 "metadata": {
  "kernelspec": {
   "display_name": "Python 3",
   "language": "python",
   "name": "python3"
  },
  "language_info": {
   "codemirror_mode": {
    "name": "ipython",
    "version": 3
   },
   "file_extension": ".py",
   "mimetype": "text/x-python",
   "name": "python",
   "nbconvert_exporter": "python",
   "pygments_lexer": "ipython3",
   "version": "3.7.4"
  }
 },
 "nbformat": 4,
 "nbformat_minor": 4
}
