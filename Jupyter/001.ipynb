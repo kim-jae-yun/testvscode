{
 "cells": [
  {
   "cell_type": "code",
   "execution_count": 4,
   "metadata": {},
   "outputs": [
    {
     "name": "stdout",
     "output_type": "stream",
     "text": [
      "13\n"
     ]
    }
   ],
   "source": [
    "x = 3\n",
    "y = 10\n",
    "print(x + y)"
   ]
  },
  {
   "cell_type": "code",
   "execution_count": 5,
   "metadata": {},
   "outputs": [
    {
     "data": {
      "text/plain": [
       "'\\nhello world\\n'"
      ]
     },
     "execution_count": 5,
     "metadata": {},
     "output_type": "execute_result"
    }
   ],
   "source": [
    "# hello world\n",
    "'''\n",
    "hello world\n",
    "'''"
   ]
  },
  {
   "cell_type": "code",
   "execution_count": 11,
   "metadata": {},
   "outputs": [
    {
     "name": "stdout",
     "output_type": "stream",
     "text": [
      "20.1\n",
      "<class 'int'>\n",
      "kimjaeyun\n"
     ]
    }
   ],
   "source": [
    "a = 10         #int(정수)\n",
    "b = 10.1       #float(실수)\n",
    "c = -1         #str(문자열)\n",
    "d ='hello world'\n",
    "e = 'kim'\n",
    "f = 'jaeyun'\n",
    "g = 10 + 2j\n",
    "h = 0b1001  #int\n",
    "i = 0o1001  #int\n",
    "j = 0x1001  #int\n",
    "print(a + b)\n",
    "print(type(a))\n",
    "print(e + f)\n",
    "# print(dir(a))"
   ]
  },
  {
   "cell_type": "code",
   "execution_count": 18,
   "metadata": {},
   "outputs": [
    {
     "name": "stdout",
     "output_type": "stream",
     "text": [
      "<class 'str'>\n",
      "p\n",
      "paullab\n",
      "pulbCOLe\n",
      "OEC ballua\n",
      "pulbC\n",
      "pulbCOLeou\n",
      "nuJoHeeL OEC balluap\n",
      "n\n"
     ]
    }
   ],
   "source": [
    "s = 'paullab CEO LeeHoJun'\n",
    "print(type(s))\n",
    "print(s[0])\n",
    "print(s[0:7])\n",
    "print(s[0:15:2])\n",
    "print(s[10:0:-1])\n",
    "print(s[:10:2])\n",
    "print(s[::2])\n",
    "print(s[::-1])\n",
    "print(s[-1])"
   ]
  },
  {
   "cell_type": "code",
   "execution_count": 29,
   "metadata": {},
   "outputs": [
    {
     "name": "stdout",
     "output_type": "stream",
     "text": [
      "<class 'str'>\n",
      "['__add__', '__class__', '__contains__', '__delattr__', '__dir__', '__doc__', '__eq__', '__format__', '__ge__', '__getattribute__', '__getitem__', '__getnewargs__', '__gt__', '__hash__', '__init__', '__init_subclass__', '__iter__', '__le__', '__len__', '__lt__', '__mod__', '__mul__', '__ne__', '__new__', '__reduce__', '__reduce_ex__', '__repr__', '__rmod__', '__rmul__', '__setattr__', '__sizeof__', '__str__', '__subclasshook__', 'capitalize', 'casefold', 'center', 'count', 'encode', 'endswith', 'expandtabs', 'find', 'format', 'format_map', 'index', 'isalnum', 'isalpha', 'isascii', 'isdecimal', 'isdigit', 'isidentifier', 'islower', 'isnumeric', 'isprintable', 'isspace', 'istitle', 'isupper', 'join', 'ljust', 'lower', 'lstrip', 'maketrans', 'partition', 'replace', 'rfind', 'rindex', 'rjust', 'rpartition', 'rsplit', 'rstrip', 'split', 'splitlines', 'startswith', 'strip', 'swapcase', 'title', 'translate', 'upper', 'zfill']\n",
      "PAULLAB CEO LEEHOJUN\n",
      "paullab ceo leehojun\n",
      "2\n",
      "             hello world       \n",
      "hello world\n",
      "             hello world\n",
      "['paullab', 'CEO', 'LeeHoJun']\n",
      "['paullab', 'CEO', 'LeeHoJun']\n",
      "paullab!CEO!LeeHoJun\n",
      "제 이름은 이호준입니다. 제 나이는 33입니다.\n",
      "제 이름은 33입니다. 제 나이는 33입니다.\n"
     ]
    }
   ],
   "source": [
    "s = 'paullab CEO LeeHoJun'\n",
    "print(type(s))\n",
    "print(dir(s))\n",
    "print(s.upper())\n",
    "print(s.lower())\n",
    "print(s.count('l'))\n",
    "ss = \"             hello world       \"\n",
    "print(ss)\n",
    "print(ss.strip())\n",
    "print(ss.rstrip())  # ㅣstrip()\n",
    "print(s.split(' '))\n",
    "a = s.split(' ')\n",
    "print(a)\n",
    "print('!'.join(a))\n",
    "print('제 이름은 {}입니다. 제 나이는 {}입니다.'.format('이호준', 33))\n",
    "print('제 이름은 {1}입니다. 제 나이는 {1}입니다.'.format('이호준', 33))"
   ]
  },
  {
   "cell_type": "code",
   "execution_count": 33,
   "metadata": {},
   "outputs": [
    {
     "name": "stdout",
     "output_type": "stream",
     "text": [
      "2020/9/24 2020 9 24\n"
     ]
    }
   ],
   "source": [
    "a = 2020\n",
    "b = 9\n",
    "c = 24\n",
    "#2020/9/24\n",
    "print(a, b, c, sep='/', end=' ')\n",
    "print(a, b, c)"
   ]
  },
  {
   "cell_type": "code",
   "execution_count": 35,
   "metadata": {},
   "outputs": [
    {
     "name": "stdout",
     "output_type": "stream",
     "text": [
      "20\n",
      "1010\n"
     ]
    }
   ],
   "source": [
    "a = 10\n",
    "b = '10'\n",
    "print(a + int(b))  #형변환\n",
    "print(str(a) + b)  #형변환"
   ]
  },
  {
   "cell_type": "code",
   "execution_count": 38,
   "metadata": {},
   "outputs": [
    {
     "name": "stdout",
     "output_type": "stream",
     "text": [
      "<class 'bool'>\n"
     ]
    }
   ],
   "source": [
    "a = True\n",
    "b = False\n",
    "print(type(a))\n",
    "#print(dir(a))"
   ]
  },
  {
   "cell_type": "code",
   "execution_count": 42,
   "metadata": {},
   "outputs": [
    {
     "name": "stdout",
     "output_type": "stream",
     "text": [
      "True\n",
      "False\n",
      "False\n",
      "True\n",
      "True\n",
      "False\n"
     ]
    }
   ],
   "source": [
    "print(bool(' '))\n",
    "print(bool(''))\n",
    "print(bool(0))\n",
    "print(bool(1))\n",
    "print(bool(-1))\n",
    "print(bool(None))"
   ]
  },
  {
   "cell_type": "code",
   "execution_count": 44,
   "metadata": {},
   "outputs": [
    {
     "name": "stdout",
     "output_type": "stream",
     "text": [
      "13\n",
      "-7\n",
      "3.3333333333333335\n",
      "30\n",
      "1000\n",
      "3\n",
      "1\n"
     ]
    }
   ],
   "source": [
    "#산술연산\n",
    "a = 3\n",
    "b = 10\n",
    "print(a + b)\n",
    "print(a - b)\n",
    "print(b / a)  #float\n",
    "print(b * a)  \n",
    "print(b ** a)\n",
    "print(b // a) #int\n",
    "print(b % a)"
   ]
  },
  {
   "cell_type": "code",
   "execution_count": 47,
   "metadata": {},
   "outputs": [
    {
     "name": "stdout",
     "output_type": "stream",
     "text": [
      "True\n",
      "True\n",
      "False\n",
      "False\n",
      "False\n",
      "True\n"
     ]
    }
   ],
   "source": [
    "#비교연산\n",
    "a = 10\n",
    "b = 3\n",
    "print(a >= b)\n",
    "print(a > b)\n",
    "print(a < b)\n",
    "print(a <= b)\n",
    "print(a == b)  #같다\n",
    "print(a != b)  #다르다"
   ]
  },
  {
   "cell_type": "code",
   "execution_count": 49,
   "metadata": {},
   "outputs": [
    {
     "name": "stdout",
     "output_type": "stream",
     "text": [
      "False\n",
      "True\n",
      "True\n"
     ]
    }
   ],
   "source": [
    "#논리연산\n",
    "a = True       # 1\n",
    "b = False      # 0\n",
    "print(a and b) # *\n",
    "print(a or b)  # + \n",
    "print(not b)   # 반대"
   ]
  },
  {
   "cell_type": "code",
   "execution_count": 53,
   "metadata": {},
   "outputs": [
    {
     "name": "stdout",
     "output_type": "stream",
     "text": [
      "20\n",
      "30\n"
     ]
    }
   ],
   "source": [
    "#할당연산\n",
    "a = 10\n",
    "a = a + 10\n",
    "print(a)\n",
    "a += 10\n",
    "print(a)"
   ]
  },
  {
   "cell_type": "code",
   "execution_count": 60,
   "metadata": {},
   "outputs": [
    {
     "name": "stdout",
     "output_type": "stream",
     "text": [
      "8\n",
      "101000\n",
      "001110\n"
     ]
    }
   ],
   "source": [
    "#bit연산\n",
    "a = 40\n",
    "b = 14\n",
    "print(a & b)\n",
    "# &, |, ~\n",
    "print(bin(a)[2:].zfill(6))\n",
    "print(bin(b)[2:].zfill(6))\n",
    "# 101000\n",
    "# 001110\n",
    "# ------- and 연산\n",
    "# 001000"
   ]
  },
  {
   "cell_type": "code",
   "execution_count": 62,
   "metadata": {},
   "outputs": [
    {
     "name": "stdout",
     "output_type": "stream",
     "text": [
      "8\n"
     ]
    }
   ],
   "source": [
    "def f(x, y):\n",
    "    z = x + y\n",
    "    return z\n",
    "print(f(3, 5))"
   ]
  },
  {
   "cell_type": "code",
   "execution_count": 68,
   "metadata": {},
   "outputs": [
    {
     "name": "stdout",
     "output_type": "stream",
     "text": [
      "3\n",
      "4\n",
      "1\n",
      "2\n",
      "None\n"
     ]
    }
   ],
   "source": [
    "def ff():\n",
    "    print('1')\n",
    "    print('2')\n",
    "    #return None이 생략\n",
    "print('3')\n",
    "print(4)\n",
    "print(ff())"
   ]
  },
  {
   "cell_type": "code",
   "execution_count": 70,
   "metadata": {},
   "outputs": [
    {
     "name": "stdout",
     "output_type": "stream",
     "text": [
      "314.0\n"
     ]
    }
   ],
   "source": [
    "def circle(r):\n",
    "    width = r*r*3.14\n",
    "    return width\n",
    "print(circle(10))"
   ]
  },
  {
   "cell_type": "code",
   "execution_count": 78,
   "metadata": {},
   "outputs": [
    {
     "name": "stdout",
     "output_type": "stream",
     "text": [
      "20\n",
      "20\n"
     ]
    },
    {
     "ename": "UnboundLocalError",
     "evalue": "local variable 'a' referenced before assignment",
     "output_type": "error",
     "traceback": [
      "\u001b[0;31m---------------------------------------------------------------------------\u001b[0m",
      "\u001b[0;31mUnboundLocalError\u001b[0m                         Traceback (most recent call last)",
      "\u001b[0;32m<ipython-input-78-7a5aae6ffdaa>\u001b[0m in \u001b[0;36m<module>\u001b[0;34m\u001b[0m\n\u001b[1;32m     14\u001b[0m     \u001b[0ma\u001b[0m \u001b[0;34m+=\u001b[0m \u001b[0;36m10\u001b[0m\u001b[0;34m\u001b[0m\u001b[0;34m\u001b[0m\u001b[0m\n\u001b[1;32m     15\u001b[0m     \u001b[0;32mreturn\u001b[0m \u001b[0ma\u001b[0m\u001b[0;34m\u001b[0m\u001b[0;34m\u001b[0m\u001b[0m\n\u001b[0;32m---> 16\u001b[0;31m \u001b[0mprint\u001b[0m\u001b[0;34m(\u001b[0m\u001b[0maplus\u001b[0m\u001b[0;34m(\u001b[0m\u001b[0;34m)\u001b[0m\u001b[0;34m)\u001b[0m\u001b[0;34m\u001b[0m\u001b[0;34m\u001b[0m\u001b[0m\n\u001b[0m",
      "\u001b[0;32m<ipython-input-78-7a5aae6ffdaa>\u001b[0m in \u001b[0;36maplus\u001b[0;34m()\u001b[0m\n\u001b[1;32m     12\u001b[0m \u001b[0;34m\u001b[0m\u001b[0m\n\u001b[1;32m     13\u001b[0m \u001b[0;32mdef\u001b[0m \u001b[0maplus\u001b[0m\u001b[0;34m(\u001b[0m\u001b[0;34m)\u001b[0m\u001b[0;34m:\u001b[0m\u001b[0;34m\u001b[0m\u001b[0;34m\u001b[0m\u001b[0m\n\u001b[0;32m---> 14\u001b[0;31m     \u001b[0ma\u001b[0m \u001b[0;34m+=\u001b[0m \u001b[0;36m10\u001b[0m\u001b[0;34m\u001b[0m\u001b[0;34m\u001b[0m\u001b[0m\n\u001b[0m\u001b[1;32m     15\u001b[0m     \u001b[0;32mreturn\u001b[0m \u001b[0ma\u001b[0m\u001b[0;34m\u001b[0m\u001b[0;34m\u001b[0m\u001b[0m\n\u001b[1;32m     16\u001b[0m \u001b[0mprint\u001b[0m\u001b[0;34m(\u001b[0m\u001b[0maplus\u001b[0m\u001b[0;34m(\u001b[0m\u001b[0;34m)\u001b[0m\u001b[0;34m)\u001b[0m\u001b[0;34m\u001b[0m\u001b[0;34m\u001b[0m\u001b[0m\n",
      "\u001b[0;31mUnboundLocalError\u001b[0m: local variable 'a' referenced before assignment"
     ]
    }
   ],
   "source": [
    "a = 10\n",
    "def aplus(aa):\n",
    "    aa += 10\n",
    "    return aa\n",
    "print(aplus(a))\n",
    "\n",
    "def aplus():   #변수 a를 함수안에서 영향을 미치지 못하도록 함, 꼭 사용할 경우엔 global을 사용할 수 있지만 주의해서 사용해야 함\n",
    "    global a\n",
    "    a += 10\n",
    "    return a\n",
    "print(aplus())\n",
    "\n",
    "def aplus():  \n",
    "    a += 10\n",
    "    return a\n",
    "print(aplus())\n"
   ]
  },
  {
   "cell_type": "code",
   "execution_count": null,
   "metadata": {},
   "outputs": [],
   "source": []
  }
 ],
 "metadata": {
  "kernelspec": {
   "display_name": "Python 3",
   "language": "python",
   "name": "python3"
  },
  "language_info": {
   "codemirror_mode": {
    "name": "ipython",
    "version": 3
   },
   "file_extension": ".py",
   "mimetype": "text/x-python",
   "name": "python",
   "nbconvert_exporter": "python",
   "pygments_lexer": "ipython3",
   "version": "3.7.4"
  }
 },
 "nbformat": 4,
 "nbformat_minor": 4
}
