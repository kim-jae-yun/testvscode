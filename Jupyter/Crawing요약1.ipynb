{
 "cells": [
  {
   "cell_type": "code",
   "execution_count": 7,
   "metadata": {},
   "outputs": [],
   "source": [
    "import requests\n",
    "import bs4"
   ]
  },
  {
   "cell_type": "code",
   "execution_count": 8,
   "metadata": {},
   "outputs": [
    {
     "data": {
      "text/plain": [
       "'2.24.0'"
      ]
     },
     "execution_count": 8,
     "metadata": {},
     "output_type": "execute_result"
    }
   ],
   "source": [
    "requests.__version__"
   ]
  },
  {
   "cell_type": "code",
   "execution_count": 11,
   "metadata": {},
   "outputs": [
    {
     "data": {
      "text/plain": [
       "'4.9.3'"
      ]
     },
     "execution_count": 11,
     "metadata": {},
     "output_type": "execute_result"
    }
   ],
   "source": [
    "bs4.__version__"
   ]
  },
  {
   "cell_type": "code",
   "execution_count": 12,
   "metadata": {},
   "outputs": [
    {
     "name": "stdout",
     "output_type": "stream",
     "text": [
      "001.ipynb  003.ipynb  005.ipynb\t\t  goorm.manifest\r\n",
      "002.ipynb  004.ipynb  Crawing요약1.ipynb  index.ipynb\r\n"
     ]
    }
   ],
   "source": [
    "!dir"
   ]
  },
  {
   "cell_type": "code",
   "execution_count": 7,
   "metadata": {},
   "outputs": [
    {
     "data": {
      "text/plain": [
       "datetime.datetime(2020, 11, 20, 6, 58, 45, 668027)"
      ]
     },
     "execution_count": 7,
     "metadata": {},
     "output_type": "execute_result"
    }
   ],
   "source": [
    "from datetime import datetime\n",
    "\n",
    "datetime.now()"
   ]
  },
  {
   "cell_type": "markdown",
   "metadata": {},
   "source": [
    "## requets"
   ]
  },
  {
   "cell_type": "code",
   "execution_count": 10,
   "metadata": {},
   "outputs": [
    {
     "data": {
      "text/plain": [
       "<Response [200]>"
      ]
     },
     "execution_count": 10,
     "metadata": {},
     "output_type": "execute_result"
    }
   ],
   "source": [
    "html = requests.get('http://www.paullab.co.kr/stock.html')\n",
    "html"
   ]
  },
  {
   "cell_type": "code",
   "execution_count": 12,
   "metadata": {},
   "outputs": [
    {
     "data": {
      "text/plain": [
       "'<html xmlns=\"http://www.w3.org/1999/xhtml\" xml:lang=\"ko\" lang=\"ko\"><head><meta http-equiv=\"Content-Type\" content=\"text/html; charset=utf-8\" /><style type=\"text/css\">body { width:100%; height:100%; } .wrap { position:fixed; top:50%; left:50%; margin:-185px 0 0 -315px; width:630px; height:370px; } h1 {margin: 0 0 20px; font-size: 15pt;}</style></head><body><script type=\"text/javascript\" src=\"/cupid.js\" ></script><script>function toNumbers(t){var e=[];return t.replace(/(..)/g,function(t){e.push(parseInt(t,16))}),e}function toHex(){for(var t=[],t=1==arguments.length&&arguments[0].constructor==Array?arguments[0]:arguments,e=\"\",o=0;o<t.length;o++)e+=(16>t[o]?\"0\":\"\")+t[o].toString(16);return e.toLowerCase()}function getUrlParams(){var t={};return window.location.search.replace(/[?&]+([^=&]+)=([^&]*)/gi,function(e,o,r){t[o]=r}),t}var a=toNumbers(\"01a4d7ff1a136dceaf2bfaae4e7c9a08\"),b=toNumbers(\"c7ea0c1b98497ffee0efee287aae7dc5\"),c=toNumbers(\"1e361cea503194cab0e01fda5c8febd7\"),now=new Date,time=now.getTime();time+=864e5,now.setTime(time),document.cookie=\"CUPID=\"+toHex(slowAES.decrypt(c,2,a,b))+\"; expires=\"+now.toUTCString()+\"; path=/\",oParams=getUrlParams(),nCkattempt=0,oParams.ckattempt&&(nCkattempt=parseInt(oParams.ckattempt)),nCkattempt<3&&(location.href=\"http://www.paullab.co.kr/stock.html?ckattempt=1\");</script><div class=\"wrap\"><div align=\"center\"><h1>ì\\x9e\\x90ë\\x8f\\x99ë\\x93±ë¡\\x9dë°©ì§\\x80ë¥¼ ì\\x9c\\x84í\\x95´ ë³´ì\\x95\\x88ì\\xa0\\x88ì°¨ë¥¼ ê±°ì¹\\x98ê³\\xa0 ì\\x9e\\x88ì\\x8aµë\\x8b\\x88ë\\x8b¤.</h1><p>Please prove that you are human.</p><form action=\"/___verify\" method=\"POST\"><input type=\"submit\" value=\"  OK  \"></form></div></div></body></html>'"
      ]
     },
     "execution_count": 12,
     "metadata": {},
     "output_type": "execute_result"
    }
   ],
   "source": [
    "html.text"
   ]
  },
  {
   "cell_type": "code",
   "execution_count": 14,
   "metadata": {},
   "outputs": [
    {
     "data": {
      "text/plain": [
       "{'Server': 'nginx', 'Date': 'Fri, 20 Nov 2020 07:01:51 GMT', 'Content-Type': 'text/html', 'Transfer-Encoding': 'chunked', 'Connection': 'keep-alive', 'Vary': 'Accept-Encoding', 'Expires': 'Thu, 01 Jan 1970 00:00:01 GMT', 'Cache-Control': 'no-cache', 'Content-Encoding': 'gzip'}"
      ]
     },
     "execution_count": 14,
     "metadata": {},
     "output_type": "execute_result"
    }
   ],
   "source": [
    "html.headers"
   ]
  },
  {
   "cell_type": "code",
   "execution_count": 16,
   "metadata": {},
   "outputs": [
    {
     "data": {
      "text/plain": [
       "'ISO-8859-1'"
      ]
     },
     "execution_count": 16,
     "metadata": {},
     "output_type": "execute_result"
    }
   ],
   "source": [
    "html.encoding"
   ]
  },
  {
   "cell_type": "code",
   "execution_count": 18,
   "metadata": {},
   "outputs": [],
   "source": [
    "html.encoding = 'utf-8'"
   ]
  },
  {
   "cell_type": "code",
   "execution_count": 20,
   "metadata": {},
   "outputs": [
    {
     "data": {
      "text/plain": [
       "'<html xmlns=\"http://www.w3.org/1999/xhtml\" xml:lang=\"ko\" lang=\"ko\"><head><meta http-equiv=\"Content-Type\" content=\"text/html; charset=utf-8\" /><style type=\"text/css\">body { width:100%; height:100%; } .wrap { position:fixed; top:50%; left:50%; margin:-185px 0 0 -315px; width:630px; height:370px; } h1 {margin: 0 0 20px; font-size: 15pt;}</style></head><body><script type=\"text/javascript\" src=\"/cupid.js\" ></script><script>function toNumbers(t){var e=[];return t.replace(/(..)/g,function(t){e.push(parseInt(t,16))}),e}function toHex(){for(var t=[],t=1==arguments.length&&arguments[0].constructor==Array?arguments[0]:arguments,e=\"\",o=0;o<t.length;o++)e+=(16>t[o]?\"0\":\"\")+t[o].toString(16);return e.toLowerCase()}function getUrlParams(){var t={};return window.location.search.replace(/[?&]+([^=&]+)=([^&]*)/gi,function(e,o,r){t[o]=r}),t}var a=toNumbers(\"01a4d7ff1a136dceaf2bfaae4e7c9a08\"),b=toNumbers(\"c7ea0c1b98497ffee0efee287aae7dc5\"),c=toNumbers(\"1e361cea503194cab0e01fda5c8febd7\"),now=new Date,time=now.getTime();time+=864e5,now.setTime(time),document.cookie=\"CUPID=\"+toHex(slowAES.decrypt(c,2,a,b))+\"; expires=\"+now.toUTCString()+\"; path=/\",oParams=getUrlParams(),nCkattempt=0,oParams.ckattempt&&(nCkattempt=parseInt(oParams.ckattempt)),nCkattempt<3&&(location.href=\"http://www.paullab.co.kr/stock.html?ckattempt=1\");</script><div class=\"wrap\"><div align=\"center\"><h1>자동등록방지를 위해 보안절차를 거치고 있습니다.</h1><p>Please prove that you are human.</p><form action=\"/___verify\" method=\"POST\"><input type=\"submit\" value=\"  OK  \"></form></div></div></body></html>'"
      ]
     },
     "execution_count": 20,
     "metadata": {},
     "output_type": "execute_result"
    }
   ],
   "source": [
    "html.text"
   ]
  },
  {
   "cell_type": "code",
   "execution_count": 22,
   "metadata": {},
   "outputs": [
    {
     "data": {
      "text/plain": [
       "200"
      ]
     },
     "execution_count": 22,
     "metadata": {},
     "output_type": "execute_result"
    }
   ],
   "source": [
    "html.status_code"
   ]
  },
  {
   "cell_type": "code",
   "execution_count": 24,
   "metadata": {},
   "outputs": [
    {
     "data": {
      "text/plain": [
       "True"
      ]
     },
     "execution_count": 24,
     "metadata": {},
     "output_type": "execute_result"
    }
   ],
   "source": [
    "html.ok"
   ]
  },
  {
   "cell_type": "code",
   "execution_count": 25,
   "metadata": {},
   "outputs": [],
   "source": [
    "import requests\n",
    "from bs4 import BeautifulSoup\n",
    "\n",
    "response = requests.get('http://www.paullab.co.kr/stock.html')\n",
    "response.encoding = 'utf-8'\n",
    "html = response.text\n",
    "\n",
    "soup = BeautifulSoup(html, 'html.parser')"
   ]
  },
  {
   "cell_type": "code",
   "execution_count": 27,
   "metadata": {},
   "outputs": [
    {
     "name": "stdout",
     "output_type": "stream",
     "text": [
      "<html lang=\"ko\" xml:lang=\"ko\" xmlns=\"http://www.w3.org/1999/xhtml\">\n",
      " <head>\n",
      "  <meta content=\"text/html; charset=utf-8\" http-equiv=\"Content-Type\"/>\n",
      "  <style type=\"text/css\">\n",
      "   body { width:100%; height:100%; } .wrap { position:fixed; top:50%; left:50%; margin:-185px 0 0 -315px; width:630px; height:370px; } h1 {margin: 0 0 20px; font-size: 15pt;}\n",
      "  </style>\n",
      " </head>\n",
      " <body>\n",
      "  <script src=\"/cupid.js\" type=\"text/javascript\">\n",
      "  </script>\n",
      "  <script>\n",
      "   function toNumbers(t){var e=[];return t.replace(/(..)/g,function(t){e.push(parseInt(t,16))}),e}function toHex(){for(var t=[],t=1==arguments.length&&arguments[0].constructor==Array?arguments[0]:arguments,e=\"\",o=0;o<t.length;o++)e+=(16>t[o]?\"0\":\"\")+t[o].toString(16);return e.toLowerCase()}function getUrlParams(){var t={};return window.location.search.replace(/[?&]+([^=&]+)=([^&]*)/gi,function(e,o,r){t[o]=r}),t}var a=toNumbers(\"01a4d7ff1a136dceaf2bfaae4e7c9a08\"),b=toNumbers(\"5d877c492a55710ff98c46953bdc3a8c\"),c=toNumbers(\"5130e90d3712be07cd792405fe367bf1\"),now=new Date,time=now.getTime();time+=864e5,now.setTime(time),document.cookie=\"CUPID=\"+toHex(slowAES.decrypt(c,2,a,b))+\"; expires=\"+now.toUTCString()+\"; path=/\",oParams=getUrlParams(),nCkattempt=0,oParams.ckattempt&&(nCkattempt=parseInt(oParams.ckattempt)),nCkattempt<3&&(location.href=\"http://www.paullab.co.kr/stock.html?ckattempt=1\");\n",
      "  </script>\n",
      "  <div class=\"wrap\">\n",
      "   <div align=\"center\">\n",
      "    <h1>\n",
      "     자동등록방지를 위해 보안절차를 거치고 있습니다.\n",
      "    </h1>\n",
      "    <p>\n",
      "     Please prove that you are human.\n",
      "    </p>\n",
      "    <form action=\"/___verify\" method=\"POST\">\n",
      "     <input type=\"submit\" value=\"  OK  \"/>\n",
      "    </form>\n",
      "   </div>\n",
      "  </div>\n",
      " </body>\n",
      "</html>\n"
     ]
    }
   ],
   "source": [
    "print(soup.prettify())"
   ]
  },
  {
   "cell_type": "code",
   "execution_count": null,
   "metadata": {},
   "outputs": [],
   "source": [
    "#import requests\n",
    "#from bs4 import BeautifulSoup\n",
    "\n",
    "#response = requests.get('http://www.paullab.co.kr/stock.html')\n",
    "#response.encoding = 'utf-8'\n",
    "#html = response.text\n",
    "\n",
    "f = open('test.html', 'w'm encoding='utf-8')"
   ]
  }
 ],
 "metadata": {
  "kernelspec": {
   "display_name": "Python 3",
   "language": "python",
   "name": "python3"
  },
  "language_info": {
   "codemirror_mode": {
    "name": "ipython",
    "version": 3
   },
   "file_extension": ".py",
   "mimetype": "text/x-python",
   "name": "python",
   "nbconvert_exporter": "python",
   "pygments_lexer": "ipython3",
   "version": "3.7.4"
  }
 },
 "nbformat": 4,
 "nbformat_minor": 4
}
