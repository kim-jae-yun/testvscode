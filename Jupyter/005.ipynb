{
 "cells": [
  {
   "cell_type": "code",
   "execution_count": 4,
   "metadata": {},
   "outputs": [
    {
     "name": "stdout",
     "output_type": "stream",
     "text": [
      "5\n",
      "5\n",
      "<class '__main__.Car'>\n",
      "['__class__', '__delattr__', '__dict__', '__dir__', '__doc__', '__eq__', '__format__', '__ge__', '__getattribute__', '__gt__', '__hash__', '__init__', '__init_subclass__', '__le__', '__lt__', '__module__', '__ne__', '__new__', '__reduce__', '__reduce_ex__', '__repr__', '__setattr__', '__sizeof__', '__str__', '__subclasshook__', '__weakref__', 'maxPeoloe', 'maxSpeed', 'start', 'stop']\n"
     ]
    }
   ],
   "source": [
    "class Car():    # class : 붕어빵 찍는 틀이라고 생각하면 됨\n",
    "    maxSpeed = 300\n",
    "    maxPeoloe = 5\n",
    "    def start(self):\n",
    "        print('출발')\n",
    "    def stop(self):\n",
    "        print('정지')\n",
    "        \n",
    "k9 = Car()           # 찍혀져 나오는 붕어빵\n",
    "k5 = Car()\n",
    "k3 = Car()\n",
    "print(k9.maxPeoloe)\n",
    "print(k3.maxPeoloe)\n",
    "print(type(k9))\n",
    "print(dir(k9))\n",
    "\n",
    "# print(Car.maxPeoloe) # 이것은 class 목적에 합당하게 용한 게 아니다. classs는 틀로 사용\n",
    "\n",
    "# ESC + M : Plain Text(설명)로 쓸 수 있음, Mark down을 쓸 수가 있다."
   ]
  },
  {
   "cell_type": "markdown",
   "metadata": {},
   "source": [
    "## class\n",
    "1. class name 첫 문자가 대문자\n",
    "2. class는 대부분 직접만지지 않습니다.\n",
    "3. class를 붕어빵 찍는 틀로 생각한다면 instance는 붕어빵입니다. "
   ]
  },
  {
   "cell_type": "code",
   "execution_count": 12,
   "metadata": {},
   "outputs": [
    {
     "name": "stdout",
     "output_type": "stream",
     "text": [
      "<__main__.Car object at 0x7f2e7d06e090>\n"
     ]
    }
   ],
   "source": [
    "class Car(object):    \n",
    "    maxSpeed = 300\n",
    "    maxPeoloe = 5\n",
    "    def start(self):\n",
    "        print('출발')\n",
    "    def stop(self):\n",
    "        print('정지')\n",
    "        \n",
    "class Hybrid(Car):\n",
    "    battery = 1000\n",
    "    batteryKM = 300\n",
    "        \n",
    "k9 = Car()           # 찍혀져 나오는 붕어빵\n",
    "k5 = Car()\n",
    "k3 = Hybrid()\n",
    "#print(dir(k9))\n",
    "print(k9)"
   ]
  },
  {
   "cell_type": "code",
   "execution_count": 16,
   "metadata": {},
   "outputs": [
    {
     "name": "stdout",
     "output_type": "stream",
     "text": [
      "인스턴스가 만들어졌습니다!!\n",
      "인스턴스가 만들어졌습니다!!\n",
      "인스턴스가 만들어졌습니다!!\n",
      "hello world\n"
     ]
    }
   ],
   "source": [
    "class Car(object):    \n",
    "    maxSpeed = 300\n",
    "    maxPeoloe = 5\n",
    "    def start(self):\n",
    "        print('출발')\n",
    "    def stop(self):\n",
    "        print('정지')\n",
    "    def __str__(self):   # __str__ : 매직 매서드\n",
    "        return 'hello world'\n",
    "    def __init__(self):\n",
    "        print('인스턴스가 만들어졌습니다!!')\n",
    "        \n",
    "class Hybrid(Car):\n",
    "    battery = 1000\n",
    "    batteryKM = 300\n",
    "        \n",
    "k9 = Car()           # 인스턴스 : 찍혀져 나오는 붕어빵\n",
    "k5 = Car()           # 인스턴스 \n",
    "k3 = Hybrid()        # 인스턴스 \n",
    "\n",
    "#print(type(k9))\n",
    "#print(dir(k9))\n",
    "print(k9)"
   ]
  },
  {
   "cell_type": "markdown",
   "metadata": {},
   "source": [
    "구글에서 python builtin function을 검색하여 참조\n",
    "abs() set() str() sum() max() bool() input() 등등"
   ]
  },
  {
   "cell_type": "code",
   "execution_count": null,
   "metadata": {},
   "outputs": [],
   "source": []
  }
 ],
 "metadata": {
  "kernelspec": {
   "display_name": "Python 3",
   "language": "python",
   "name": "python3"
  },
  "language_info": {
   "codemirror_mode": {
    "name": "ipython",
    "version": 3
   },
   "file_extension": ".py",
   "mimetype": "text/x-python",
   "name": "python",
   "nbconvert_exporter": "python",
   "pygments_lexer": "ipython3",
   "version": "3.7.4"
  }
 },
 "nbformat": 4,
 "nbformat_minor": 4
}
