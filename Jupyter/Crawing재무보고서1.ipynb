{
 "cells": [
  {
   "cell_type": "code",
   "execution_count": 20,
   "metadata": {},
   "outputs": [],
   "source": [
    "import requests\n",
    "from bs4 import BeautifulSoup\n",
    "\n",
    "url = 'http://paullab.co.kr/stock.html'\n",
    "response = requests.get(url)\n",
    "response.encoding = 'utj-8'\n",
    "html = response.text\n",
    "soup = BeautifulSoup(html, 'html.parser')"
   ]
  },
  {
   "cell_type": "code",
   "execution_count": 22,
   "metadata": {},
   "outputs": [
    {
     "data": {
      "text/plain": [
       "[<td class=\"strong\"><em id=\"_market_sum\">349조 2,323</em>억원</td>,\n",
       " <td>위니브월드 <em id=\"_market_sum\">1</em>위</td>,\n",
       " <td><em id=\"_market_sum\">5,969,782,550</em></td>,\n",
       " <td class=\"strong\"><em id=\"_market_sum\">349조 2,323</em>억원</td>,\n",
       " <td>\n",
       " <em>62,800</em>\n",
       " <span class=\"bar\">l</span>\n",
       " <em>42,300</em>\n",
       " </td>,\n",
       " <td>\n",
       " <em id=\"_dvr\">2.42</em>%\n",
       "                 </td>,\n",
       " <td class=\"strong\">22,125,034,978,750원</td>,\n",
       " <td>19,223,803,154,781원</td>,\n",
       " <td><em id=\"_market_sum\">2,901,231,823,969원</em></td>]"
      ]
     },
     "execution_count": 22,
     "metadata": {},
     "output_type": "execute_result"
    }
   ],
   "source": [
    "values = soup.select('.tables td')\n",
    "values"
   ]
  },
  {
   "cell_type": "code",
   "execution_count": 18,
   "metadata": {},
   "outputs": [
    {
     "name": "stdout",
     "output_type": "stream",
     "text": [
      "349조 2,323억원\n",
      "위니브월드 1위\n",
      "5,969,782,550\n",
      "349조 2,323억원\n",
      "\n",
      "62,800\n",
      "l\n",
      "42,300\n",
      "\n",
      "\n",
      "2.42%\n",
      "                \n",
      "22,125,034,978,750원\n",
      "19,223,803,154,781원\n",
      "2,901,231,823,969원\n"
     ]
    }
   ],
   "source": [
    "print(values[0].text)\n",
    "print(values[1].text)\n",
    "print(values[2].text)\n",
    "print(values[3].text)\n",
    "print(values[4].text)\n",
    "print(values[5].text)\n",
    "print(values[6].text)\n",
    "print(values[7].text)\n",
    "print(values[8].text)"
   ]
  }
 ],
 "metadata": {
  "kernelspec": {
   "display_name": "Python 3",
   "language": "python",
   "name": "python3"
  },
  "language_info": {
   "codemirror_mode": {
    "name": "ipython",
    "version": 3
   },
   "file_extension": ".py",
   "mimetype": "text/x-python",
   "name": "python",
   "nbconvert_exporter": "python",
   "pygments_lexer": "ipython3",
   "version": "3.7.4"
  }
 },
 "nbformat": 4,
 "nbformat_minor": 4
}
